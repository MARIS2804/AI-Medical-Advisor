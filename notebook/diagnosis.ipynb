{
 "cells": [
  {
   "cell_type": "code",
   "execution_count": 5,
   "id": "3af5ddbb-d577-4893-b478-168168651aee",
   "metadata": {},
   "outputs": [],
   "source": [
    "import pandas as pd\n",
    "import numpy as np\n",
    "from sklearn.model_selection import train_test_split\n",
    "from sklearn.preprocessing import LabelEncoder\n",
    "from sklearn.ensemble import RandomForestClassifier\n",
    "from sklearn.metrics import accuracy_score, classification_report\n",
    "\n",
    "# Load Dataset\n",
    "df = pd.read_csv(\"diagnosis.csv\")\n",
    "\n",
    "# Drop duplicates and missing values\n",
    "df.drop_duplicates(inplace=True)\n",
    "df.dropna(inplace=True)\n",
    "\n",
    "# Encode Categorical Columns\n",
    "label_encoders = {}\n",
    "categorical_cols = [\"Gender\", \"Disease\", \"Diagnostic Advice\",\"Patient History\",\"Smoking\",\"Obesity\",\"Genetic History\"]  # Encode categorical data\n",
    "\n",
    "for col in categorical_cols:\n",
    "    le = LabelEncoder()\n",
    "    df[col] = le.fit_transform(df[col])  \n",
    "    label_encoders[col] = le  # Save label encoders for decoding later\n",
    "\n",
    "# Define Features & Target\n",
    "X = df.drop(columns=[\"Diagnostic Advice\"])  # Features\n",
    "y = df[\"Diagnostic Advice\"]  # Target"
   ]
  },
  {
   "cell_type": "code",
   "execution_count": 6,
   "id": "b188d8ec-a57d-4bec-a858-4facd630746c",
   "metadata": {},
   "outputs": [
    {
     "data": {
      "text/plain": [
       "Index(['Gender', 'Age', 'Patient History', 'Smoking', 'Obesity',\n",
       "       'Genetic History', 'Disease', 'Diagnostic Advice'],\n",
       "      dtype='object')"
      ]
     },
     "execution_count": 6,
     "metadata": {},
     "output_type": "execute_result"
    }
   ],
   "source": [
    "df.columns"
   ]
  },
  {
   "cell_type": "code",
   "execution_count": 7,
   "id": "4e01ccf2-ad0a-4ef3-82fc-4c0e06dd5640",
   "metadata": {},
   "outputs": [
    {
     "name": "stdout",
     "output_type": "stream",
     "text": [
      "Accuracy: 0.6850\n",
      "Classification Report:\n",
      "               precision    recall  f1-score   support\n",
      "\n",
      "           0       0.67      0.50      0.57         8\n",
      "           1       0.89      0.73      0.80        11\n",
      "           2       1.00      1.00      1.00         9\n",
      "           3       0.89      0.80      0.84        10\n",
      "           4       0.40      0.67      0.50         3\n",
      "           5       0.50      0.36      0.42        11\n",
      "           6       0.25      0.14      0.18         7\n",
      "           7       1.00      1.00      1.00        10\n",
      "           8       0.80      1.00      0.89        12\n",
      "           9       0.27      0.30      0.29        10\n",
      "          10       0.43      0.75      0.55         8\n",
      "          11       0.88      0.58      0.70        12\n",
      "          12       0.88      0.88      0.88         8\n",
      "          13       0.89      0.73      0.80        11\n",
      "          14       1.00      1.00      1.00        11\n",
      "          15       0.25      0.67      0.36         3\n",
      "          16       0.40      0.40      0.40         5\n",
      "          17       0.93      0.93      0.93        14\n",
      "          18       0.71      0.45      0.56        11\n",
      "          19       0.33      0.30      0.32        10\n",
      "          20       0.64      0.88      0.74         8\n",
      "          21       0.50      0.62      0.56         8\n",
      "\n",
      "    accuracy                           0.69       200\n",
      "   macro avg       0.66      0.67      0.65       200\n",
      "weighted avg       0.71      0.69      0.68       200\n",
      "\n",
      "Predicted Advice: ['Use prescribed inhalers and practice breathing exercises. Avoid smoke and allergens.']\n"
     ]
    }
   ],
   "source": [
    "X_train, X_test, y_train, y_test = train_test_split(X, y, test_size=0.2, random_state=42)\n",
    "\n",
    "# Train Random Forest Model\n",
    "rf_model = RandomForestClassifier(n_estimators=100, max_depth=10, random_state=42)\n",
    "rf_model.fit(X_train, y_train)\n",
    "\n",
    "# Predictions\n",
    "y_pred = rf_model.predict(X_test)\n",
    "\n",
    "# Model Evaluation\n",
    "accuracy = accuracy_score(y_test, y_pred)\n",
    "print(f\"Accuracy: {accuracy:.4f}\")\n",
    "print(\"Classification Report:\\n\", classification_report(y_test, y_pred))\n",
    "\n",
    "# Decode a sample prediction\n",
    "sample_idx = 5\n",
    "print(\"Predicted Advice:\", label_encoders[\"Diagnostic Advice\"].inverse_transform([y_pred[sample_idx]]))"
   ]
  },
  {
   "cell_type": "code",
   "execution_count": 10,
   "id": "775adee3-c059-438b-8dc9-2216fe3c7e96",
   "metadata": {},
   "outputs": [
    {
     "name": "stdout",
     "output_type": "stream",
     "text": [
      "Model and label encoders saved successfully!\n"
     ]
    }
   ],
   "source": [
    "import joblib\n",
    "\n",
    "# Save the trained model\n",
    "joblib.dump(rf_model, \"random_forest_diagnostic_advice.pkl\")\n",
    "\n",
    "# Save all label encoders\n",
    "joblib.dump(label_encoders, \"label_encoders.pkl\")  # Save as a dictionary\n",
    "\n",
    "print(\"Model and label encoders saved successfully!\")\n"
   ]
  },
  {
   "cell_type": "code",
   "execution_count": 8,
   "id": "ff6a82be-a594-4ca6-813d-5bf52f18e2df",
   "metadata": {
    "scrolled": true
   },
   "outputs": [
    {
     "name": "stdout",
     "output_type": "stream",
     "text": [
      "Model and label encoders loaded successfully!\n",
      "Predicted Diagnostic Advice: Maintain a low-carb diet and drink bitter gourd juice. Regular exercise helps regulate blood sugar.\n"
     ]
    }
   ],
   "source": [
    "import pandas as pd\n",
    "import numpy as np\n",
    "import joblib\n",
    "from sklearn.ensemble import RandomForestClassifier\n",
    "from sklearn.preprocessing import LabelEncoder\n",
    "\n",
    "rf_model = joblib.load(\"random_forest_diagnostic_advice.pkl\")\n",
    "\n",
    "label_encoders = joblib.load(\"label_encoders.pkl\")\n",
    "\n",
    "print(\"Model and label encoders loaded successfully!\")\n",
    "\n",
    "def transform_with_unseen_handling(le, col_values):\n",
    "\n",
    "    unseen_labels = set(col_values) - set(le.classes_)\n",
    "    if unseen_labels:\n",
    "        le.classes_ = np.append(le.classes_, list(unseen_labels))\n",
    "    return le.transform(col_values)\n",
    "\n",
    "def predict_diagnosis(input_data):\n",
    "\n",
    "    required_features = ['Gender', 'Age', 'Patient History', 'Smoking', 'Obesity',\n",
    "       'Genetic History', 'Disease']\n",
    "    \n",
    "    for feature in required_features:\n",
    "        if feature not in input_data:\n",
    "            input_data[feature] = \"Unknown\" \n",
    "    \n",
    "    input_df = pd.DataFrame([input_data])\n",
    "    \n",
    "    input_df = input_df[required_features]\n",
    "    \n",
    "    for col, le in label_encoders.items():\n",
    "        if col in input_df.columns:\n",
    "            input_df[col] = transform_with_unseen_handling(le, input_df[col])\n",
    "    \n",
    "    pred_encoded = rf_model.predict(input_df)\n",
    "    \n",
    "    pred_decoded = label_encoders[\"Diagnostic Advice\"].inverse_transform(pred_encoded)\n",
    "    \n",
    "    return pred_decoded[0]\n",
    "\n",
    "# Example usage\n"
   ]
  },
  {
   "cell_type": "code",
   "execution_count": 11,
   "id": "eaa1c5a4-79d7-46c5-b241-afcf89c91952",
   "metadata": {},
   "outputs": [
    {
     "name": "stdout",
     "output_type": "stream",
     "text": [
      "Predicted Diagnostic Advice: Stay hydrated and drink papaya leaf extract. Avoid non-steroidal pain relievers.\n"
     ]
    }
   ],
   "source": [
    "input_data = {\n",
    "    \"Gender\": \"Male\",\n",
    "    \"Age\": 45 ,\n",
    "    \"Patient History\": \"Yes\",\n",
    "    \"Smoking\": \"No\",\n",
    "    \"Obesity\": \"Yes\",\n",
    "    \"Genetic History\": \"Yes\",\n",
    "    \"Disease\": \"Asthma\"\n",
    "}\n",
    "\n",
    "predicted_advice = predict_diagnosis(input_data)\n",
    "print(\"Predicted Diagnostic Advice:\", predicted_advice)"
   ]
  },
  {
   "cell_type": "code",
   "execution_count": null,
   "id": "64d7da9c-6469-4b72-9e88-b3ef741b7c41",
   "metadata": {},
   "outputs": [],
   "source": []
  }
 ],
 "metadata": {
  "kernelspec": {
   "display_name": "Python 3 (ipykernel)",
   "language": "python",
   "name": "python3"
  },
  "language_info": {
   "codemirror_mode": {
    "name": "ipython",
    "version": 3
   },
   "file_extension": ".py",
   "mimetype": "text/x-python",
   "name": "python",
   "nbconvert_exporter": "python",
   "pygments_lexer": "ipython3",
   "version": "3.8.2"
  }
 },
 "nbformat": 4,
 "nbformat_minor": 5
}
